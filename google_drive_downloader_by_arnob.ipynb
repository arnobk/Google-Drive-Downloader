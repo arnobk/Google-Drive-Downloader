{
  "nbformat": 4,
  "nbformat_minor": 0,
  "metadata": {
    "colab": {
      "name": "google-drive-downloader-by-arnob.ipynb",
      "provenance": [],
      "collapsed_sections": [],
      "authorship_tag": "ABX9TyMK64n8ThfveLRCEjtnAw7H",
      "include_colab_link": true
    },
    "kernelspec": {
      "name": "python3",
      "display_name": "Python 3"
    },
    "accelerator": "GPU"
  },
  "cells": [
    {
      "cell_type": "markdown",
      "metadata": {
        "id": "view-in-github",
        "colab_type": "text"
      },
      "source": [
        "<a href=\"https://colab.research.google.com/github/arnobk/Google-Drive-Downloader/blob/master/google_drive_downloader_by_arnob.ipynb\" target=\"_parent\"><img src=\"https://colab.research.google.com/assets/colab-badge.svg\" alt=\"Open In Colab\"/></a>"
      ]
    },
    {
      "cell_type": "code",
      "metadata": {
        "id": "ddG7RoHYPv-c",
        "colab_type": "code",
        "colab": {}
      },
      "source": [
        "#@title Step 1 | Google Drive Downloader by Arnob Karmokar\n",
        "#@markdown <h3>⬅ Run This Cell to  Mount Gdrive\n",
        "from google.colab import drive\n",
        "drive.mount('/content/drive')"
      ],
      "execution_count": 0,
      "outputs": []
    },
    {
      "cell_type": "code",
      "metadata": {
        "id": "mM2s1xfTP_jB",
        "colab_type": "code",
        "colab": {}
      },
      "source": [
        "#@title Step 2 | Google Drive Downloader by Arnob Karmokar\n",
        "#@markdown <h3>⬅️ Run this Cell to Download Your File to Google Drive</h3>\n",
        "File_URL = \"http://1.droppdf.com/files/5iHzx/automate-the-boring-stuff-with-python-2015-.pdf\" #@param {type:\"string\"}\n",
        "\n",
        "import requests,sys,re,os\n",
        "file_url = File_URL\n",
        "from datetime import datetime\n",
        "startTime = datetime.now()\n",
        "\n",
        "r = requests.get(file_url, stream = True)\n",
        "\n",
        "fname = file_url.split(\"/\")\n",
        "fname = fname[len(fname)-1]\n",
        "\n",
        "\n",
        "print(r\"\"\"\n",
        "   _____                     ___. /\\           ________________        .__               \n",
        "  /  _  \\_______  ____   ____\\_ |_)/  ______  /  _____/\\______ \\_______|__|__  __ ____   \n",
        " /  /_\\  \\_  __ \\/    \\ /  _ \\| __ \\ /  ___/ /   \\  ___ |    |  \\_  __ \\  \\  \\/ // __ \\  \n",
        "/    |    \\  | \\/   |  (  <_> ) \\_\\ \\\\___ \\  \\    \\_\\  \\|    `   \\  | \\/  |\\   /\\  ___/  \n",
        "\\____|__  /__|  |___|  /\\____/|___  /____  >  \\______  /_______  /__|  |__| \\_/  \\___  > \n",
        "        \\/           \\/           \\/     \\/          \\/        \\/                    \\/  \n",
        "________                      .__                    .___                                \n",
        "\\______ \\   ______  _  ______ |  |   _________     __| _/___________                     \n",
        " |    |  \\ /  _ \\ \\/ \\/ /    \\|  |  /  _ \\__  \\   / __ |/ __ \\_  __ \\                    \n",
        " |    `   (  <_> )     /   |  \\  |_(  <_> ) __ \\_/ /_/ \\  ___/|  | \\/                    \n",
        "/_______  /\\____/ \\/\\_/|___|  /____/\\____(____  /\\____ |\\___  >__|                       \n",
        "        \\/                  \\/                \\/      \\/    \\/                           \"\"\")\n",
        "\n",
        "print(\"\\n\")\n",
        "print(r\"\"\"         Visit arnobk.github.io/blog/ for more!\"\"\")\n",
        "print(\"\\n\")\n",
        "print(\"Downloading: \" + file_url)\n",
        "fpath = '/content/drive/My Drive/AK-Downloader/' + fname\n",
        "folderpath = '/content/drive/My Drive/AK-Downloader/'\n",
        "try:\n",
        "    os.mkdir(folderpath)\n",
        "except OSError:\n",
        "    print(\"\")\n",
        "else:\n",
        "    print(\"\")\n",
        "print('Destination: ' + fpath)\n",
        "file_size = 0\n",
        "\n",
        "with open(fpath, 'wb+') as (f):\n",
        "            response = requests.get(file_url, allow_redirects=True, stream=True)\n",
        "            total_length = response.headers.get('content-length')\n",
        "            file_size = round(int(total_length)/(1024*1024),3)\n",
        "            print(\"File Size: \" + str(file_size) + \" MB\")\n",
        "            if not total_length:\n",
        "                f.write(response.content)\n",
        "            else:\n",
        "                dl = 0\n",
        "                total_length = int(total_length)\n",
        "                for data in response.iter_content(chunk_size=4096):\n",
        "                    dl += len(data)\n",
        "                    f.write(data)\n",
        "                    done = int(50 * dl / total_length)\n",
        "                    sys.stdout.write('\\r[%s%s]' % ('=' * done, ' ' * (50 - done)))\n",
        "                    sys.stdout.flush()\n",
        "\n",
        "print(' Download Completed')\n",
        "stopTime = datetime.now();\n",
        "timeDiff = stopTime - startTime\n",
        "print(\"Time Required: \" + str(timeDiff.seconds) + \" Seconds\")\n",
        "print(\"Average Download Speed: \" + str(round(file_size/int(timeDiff.seconds),3)) + \" MBps\" )\n"
      ],
      "execution_count": 0,
      "outputs": []
    }
  ]
}